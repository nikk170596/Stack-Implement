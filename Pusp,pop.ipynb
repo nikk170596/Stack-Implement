{
 "cells": [
  {
   "cell_type": "code",
   "execution_count": 6,
   "id": "c90a981e",
   "metadata": {},
   "outputs": [
    {
     "name": "stdout",
     "output_type": "stream",
     "text": [
      "False\n",
      "15\n",
      "10\n",
      "5\n",
      "Stack is empty.\n",
      "None\n",
      "True\n"
     ]
    }
   ],
   "source": [
    "class Stack:\n",
    "    def __init__(self):\n",
    "        self.stack = []\n",
    "\n",
    "    def push(self, item):\n",
    "        self.stack.append(item)\n",
    "\n",
    "    def pop(self):\n",
    "        if not self.is_empty():\n",
    "            return self.stack.pop()\n",
    "        else:\n",
    "            print(\"Stack is empty.\")\n",
    "\n",
    "    def is_empty(self):\n",
    "        return len(self.stack) == 0\n",
    "    \n",
    "stack = Stack()\n",
    "\n",
    "\n",
    "stack.push(5)\n",
    "stack.push(10)\n",
    "stack.push(15)\n",
    "\n",
    "print(stack.is_empty())  \n",
    "\n",
    "\n",
    "print(stack.pop())  \n",
    "print(stack.pop())  \n",
    "print(stack.pop())  \n",
    "print(stack.pop())  \n",
    "\n",
    "print(stack.is_empty()) "
   ]
  },
  {
   "cell_type": "code",
   "execution_count": null,
   "id": "1ceb883d",
   "metadata": {},
   "outputs": [],
   "source": [
    "\n"
   ]
  },
  {
   "cell_type": "code",
   "execution_count": 2,
   "id": "83fed0a6",
   "metadata": {},
   "outputs": [],
   "source": [
    "\n"
   ]
  }
 ],
 "metadata": {
  "kernelspec": {
   "display_name": "Python 3 (ipykernel)",
   "language": "python",
   "name": "python3"
  },
  "language_info": {
   "codemirror_mode": {
    "name": "ipython",
    "version": 3
   },
   "file_extension": ".py",
   "mimetype": "text/x-python",
   "name": "python",
   "nbconvert_exporter": "python",
   "pygments_lexer": "ipython3",
   "version": "3.9.7"
  }
 },
 "nbformat": 4,
 "nbformat_minor": 5
}
